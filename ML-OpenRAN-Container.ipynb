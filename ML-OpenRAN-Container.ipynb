{
 "cells": [
  {
   "cell_type": "code",
   "execution_count": 1,
   "id": "da03e447",
   "metadata": {},
   "outputs": [
    {
     "name": "stdout",
     "output_type": "stream",
     "text": [
      "sagemaker.config INFO - Not applying SDK defaults from location: /etc/xdg/sagemaker/config.yaml\n",
      "sagemaker.config INFO - Not applying SDK defaults from location: /home/ec2-user/.config/sagemaker/config.yaml\n",
      "Using bucket bucket-sagemaker-ml\n",
      "Current Region us-east-1\n"
     ]
    }
   ],
   "source": [
    "import numpy as np\n",
    "from sagemaker import get_execution_role\n",
    "import sagemaker\n",
    "from sklearn.model_selection import train_test_split\n",
    "from sklearn.preprocessing import LabelEncoder, StandardScaler, OneHotEncoder\n",
    "import datetime\n",
    "import time\n",
    "import tarfile\n",
    "import boto3\n",
    "import pandas as pd\n",
    "\n",
    "sm_boto3 = boto3.client(\"sagemaker\")\n",
    "sess = sagemaker.Session()\n",
    "region = sess.boto_session.region_name\n",
    "bucket = 'bucket-sagemaker-ml'\n",
    "print(\"Using bucket \" + bucket)\n",
    "print(\"Current Region \" + region)"
   ]
  },
  {
   "cell_type": "code",
   "execution_count": 2,
   "id": "a26bbb98",
   "metadata": {},
   "outputs": [],
   "source": [
    "df = pd.read_csv(\"network_simulation_data_new.csv\")"
   ]
  },
  {
   "cell_type": "code",
   "execution_count": 3,
   "id": "234c91e8",
   "metadata": {},
   "outputs": [
    {
     "data": {
      "text/html": [
       "<div>\n",
       "<style scoped>\n",
       "    .dataframe tbody tr th:only-of-type {\n",
       "        vertical-align: middle;\n",
       "    }\n",
       "\n",
       "    .dataframe tbody tr th {\n",
       "        vertical-align: top;\n",
       "    }\n",
       "\n",
       "    .dataframe thead th {\n",
       "        text-align: right;\n",
       "    }\n",
       "</style>\n",
       "<table border=\"1\" class=\"dataframe\">\n",
       "  <thead>\n",
       "    <tr style=\"text-align: right;\">\n",
       "      <th></th>\n",
       "      <th>Day_Type</th>\n",
       "      <th>Hour</th>\n",
       "      <th>Area</th>\n",
       "      <th>RU_id</th>\n",
       "      <th>RU_type</th>\n",
       "      <th>Capacity</th>\n",
       "      <th>RU_x</th>\n",
       "      <th>RU_y</th>\n",
       "      <th>Current_load</th>\n",
       "      <th>Load_Percentage</th>\n",
       "      <th>RU_Power</th>\n",
       "    </tr>\n",
       "  </thead>\n",
       "  <tbody>\n",
       "    <tr>\n",
       "      <th>0</th>\n",
       "      <td>Weekday</td>\n",
       "      <td>0</td>\n",
       "      <td>Office</td>\n",
       "      <td>2339242788048</td>\n",
       "      <td>macro</td>\n",
       "      <td>200</td>\n",
       "      <td>500</td>\n",
       "      <td>1500</td>\n",
       "      <td>0.0</td>\n",
       "      <td>0.0</td>\n",
       "      <td>Idle</td>\n",
       "    </tr>\n",
       "    <tr>\n",
       "      <th>1</th>\n",
       "      <td>Weekday</td>\n",
       "      <td>0</td>\n",
       "      <td>Office</td>\n",
       "      <td>2339322711696</td>\n",
       "      <td>macro</td>\n",
       "      <td>200</td>\n",
       "      <td>500</td>\n",
       "      <td>3750</td>\n",
       "      <td>10.0</td>\n",
       "      <td>5.0</td>\n",
       "      <td>Reduced</td>\n",
       "    </tr>\n",
       "    <tr>\n",
       "      <th>2</th>\n",
       "      <td>Weekday</td>\n",
       "      <td>0</td>\n",
       "      <td>Office</td>\n",
       "      <td>2339341123408</td>\n",
       "      <td>macro</td>\n",
       "      <td>200</td>\n",
       "      <td>1250</td>\n",
       "      <td>500</td>\n",
       "      <td>5.0</td>\n",
       "      <td>2.5</td>\n",
       "      <td>Reduced</td>\n",
       "    </tr>\n",
       "    <tr>\n",
       "      <th>3</th>\n",
       "      <td>Weekday</td>\n",
       "      <td>0</td>\n",
       "      <td>Office</td>\n",
       "      <td>2339322764688</td>\n",
       "      <td>macro</td>\n",
       "      <td>200</td>\n",
       "      <td>1250</td>\n",
       "      <td>2500</td>\n",
       "      <td>21.0</td>\n",
       "      <td>10.5</td>\n",
       "      <td>Reduced</td>\n",
       "    </tr>\n",
       "    <tr>\n",
       "      <th>4</th>\n",
       "      <td>Weekday</td>\n",
       "      <td>0</td>\n",
       "      <td>Office</td>\n",
       "      <td>2339322764944</td>\n",
       "      <td>macro</td>\n",
       "      <td>200</td>\n",
       "      <td>2000</td>\n",
       "      <td>1500</td>\n",
       "      <td>24.0</td>\n",
       "      <td>12.0</td>\n",
       "      <td>Reduced</td>\n",
       "    </tr>\n",
       "  </tbody>\n",
       "</table>\n",
       "</div>"
      ],
      "text/plain": [
       "  Day_Type  Hour    Area          RU_id RU_type  Capacity  RU_x  RU_y  \\\n",
       "0  Weekday     0  Office  2339242788048   macro       200   500  1500   \n",
       "1  Weekday     0  Office  2339322711696   macro       200   500  3750   \n",
       "2  Weekday     0  Office  2339341123408   macro       200  1250   500   \n",
       "3  Weekday     0  Office  2339322764688   macro       200  1250  2500   \n",
       "4  Weekday     0  Office  2339322764944   macro       200  2000  1500   \n",
       "\n",
       "   Current_load  Load_Percentage RU_Power  \n",
       "0           0.0              0.0     Idle  \n",
       "1          10.0              5.0  Reduced  \n",
       "2           5.0              2.5  Reduced  \n",
       "3          21.0             10.5  Reduced  \n",
       "4          24.0             12.0  Reduced  "
      ]
     },
     "execution_count": 3,
     "metadata": {},
     "output_type": "execute_result"
    }
   ],
   "source": [
    "df.head()"
   ]
  },
  {
   "cell_type": "code",
   "execution_count": 4,
   "id": "81c6b988",
   "metadata": {},
   "outputs": [
    {
     "data": {
      "text/plain": [
       "(28080, 11)"
      ]
     },
     "execution_count": 4,
     "metadata": {},
     "output_type": "execute_result"
    }
   ],
   "source": [
    "df.shape"
   ]
  },
  {
   "cell_type": "code",
   "execution_count": 5,
   "id": "6950617f",
   "metadata": {},
   "outputs": [
    {
     "name": "stdout",
     "output_type": "stream",
     "text": [
      "   Day_Type  Hour  Area  RU_type  Capacity  Current_load  Load_Percentage  \\\n",
      "0         0     0     0        0       200           0.0              0.0   \n",
      "1         0     0     0        0       200          10.0              5.0   \n",
      "2         0     0     0        0       200           5.0              2.5   \n",
      "3         0     0     0        0       200          21.0             10.5   \n",
      "4         0     0     0        0       200          24.0             12.0   \n",
      "\n",
      "   RU_Power  \n",
      "0         0  \n",
      "1         1  \n",
      "2         1  \n",
      "3         1  \n",
      "4         1  \n"
     ]
    }
   ],
   "source": [
    "label_encoder = LabelEncoder()\n",
    "df['Day_Type'] = df['Day_Type'].map({'Weekday': 0, 'Weekend': 1})\n",
    "df['Area'] = df['Area'].map({'Office': 0, 'Residential': 1, 'Garden_Mall': 2})\n",
    "df['RU_type'] = df['RU_type'].map({'macro': 0, 'micro': 1})\n",
    "df['RU_Power'] = df['RU_Power'].map({'Idle': 0, 'Reduced': 1, 'Full': 2})\n",
    "df = df.drop(columns=['RU_id', 'RU_x', 'RU_y'])\n",
    "print(df.head())"
   ]
  },
  {
   "cell_type": "code",
   "execution_count": 6,
   "id": "7da2a808",
   "metadata": {},
   "outputs": [
    {
     "data": {
      "text/plain": [
       "Index(['Day_Type', 'Hour', 'Area', 'RU_type', 'Capacity', 'Current_load',\n",
       "       'Load_Percentage', 'RU_Power'],\n",
       "      dtype='object')"
      ]
     },
     "execution_count": 6,
     "metadata": {},
     "output_type": "execute_result"
    }
   ],
   "source": [
    "df.columns"
   ]
  },
  {
   "cell_type": "code",
   "execution_count": 7,
   "id": "6e421e4c",
   "metadata": {},
   "outputs": [
    {
     "data": {
      "text/plain": [
       "(28080, 8)"
      ]
     },
     "execution_count": 7,
     "metadata": {},
     "output_type": "execute_result"
    }
   ],
   "source": [
    "df.shape"
   ]
  },
  {
   "cell_type": "code",
   "execution_count": 8,
   "id": "be3ea6cd",
   "metadata": {},
   "outputs": [
    {
     "data": {
      "text/plain": [
       "Day_Type           0.0\n",
       "Hour               0.0\n",
       "Area               0.0\n",
       "RU_type            0.0\n",
       "Capacity           0.0\n",
       "Current_load       0.0\n",
       "Load_Percentage    0.0\n",
       "RU_Power           0.0\n",
       "dtype: float64"
      ]
     },
     "execution_count": 8,
     "metadata": {},
     "output_type": "execute_result"
    }
   ],
   "source": [
    "df.isnull().mean() * 100"
   ]
  },
  {
   "cell_type": "code",
   "execution_count": 9,
   "id": "9c7a389d",
   "metadata": {},
   "outputs": [
    {
     "data": {
      "text/plain": [
       "['Day_Type',\n",
       " 'Hour',\n",
       " 'Area',\n",
       " 'RU_type',\n",
       " 'Capacity',\n",
       " 'Current_load',\n",
       " 'Load_Percentage',\n",
       " 'RU_Power']"
      ]
     },
     "execution_count": 9,
     "metadata": {},
     "output_type": "execute_result"
    }
   ],
   "source": [
    "features = list(df.columns)\n",
    "features"
   ]
  },
  {
   "cell_type": "code",
   "execution_count": 10,
   "id": "8de0d727",
   "metadata": {},
   "outputs": [
    {
     "name": "stdout",
     "output_type": "stream",
     "text": [
      "RU_Power\n"
     ]
    }
   ],
   "source": [
    "label = features.pop(-1)\n",
    "print(label)"
   ]
  },
  {
   "cell_type": "code",
   "execution_count": 11,
   "id": "82d7a626",
   "metadata": {},
   "outputs": [],
   "source": [
    "x = df[features].copy()\n",
    "y = df[label]"
   ]
  },
  {
   "cell_type": "code",
   "execution_count": 12,
   "id": "0a4a5b3a",
   "metadata": {},
   "outputs": [
    {
     "data": {
      "text/html": [
       "<div>\n",
       "<style scoped>\n",
       "    .dataframe tbody tr th:only-of-type {\n",
       "        vertical-align: middle;\n",
       "    }\n",
       "\n",
       "    .dataframe tbody tr th {\n",
       "        vertical-align: top;\n",
       "    }\n",
       "\n",
       "    .dataframe thead th {\n",
       "        text-align: right;\n",
       "    }\n",
       "</style>\n",
       "<table border=\"1\" class=\"dataframe\">\n",
       "  <thead>\n",
       "    <tr style=\"text-align: right;\">\n",
       "      <th></th>\n",
       "      <th>Day_Type</th>\n",
       "      <th>Hour</th>\n",
       "      <th>Area</th>\n",
       "      <th>RU_type</th>\n",
       "      <th>Capacity</th>\n",
       "      <th>Current_load</th>\n",
       "      <th>Load_Percentage</th>\n",
       "    </tr>\n",
       "  </thead>\n",
       "  <tbody>\n",
       "    <tr>\n",
       "      <th>0</th>\n",
       "      <td>0</td>\n",
       "      <td>0</td>\n",
       "      <td>0</td>\n",
       "      <td>0</td>\n",
       "      <td>200</td>\n",
       "      <td>0.0</td>\n",
       "      <td>0.0</td>\n",
       "    </tr>\n",
       "    <tr>\n",
       "      <th>1</th>\n",
       "      <td>0</td>\n",
       "      <td>0</td>\n",
       "      <td>0</td>\n",
       "      <td>0</td>\n",
       "      <td>200</td>\n",
       "      <td>10.0</td>\n",
       "      <td>5.0</td>\n",
       "    </tr>\n",
       "    <tr>\n",
       "      <th>2</th>\n",
       "      <td>0</td>\n",
       "      <td>0</td>\n",
       "      <td>0</td>\n",
       "      <td>0</td>\n",
       "      <td>200</td>\n",
       "      <td>5.0</td>\n",
       "      <td>2.5</td>\n",
       "    </tr>\n",
       "    <tr>\n",
       "      <th>3</th>\n",
       "      <td>0</td>\n",
       "      <td>0</td>\n",
       "      <td>0</td>\n",
       "      <td>0</td>\n",
       "      <td>200</td>\n",
       "      <td>21.0</td>\n",
       "      <td>10.5</td>\n",
       "    </tr>\n",
       "    <tr>\n",
       "      <th>4</th>\n",
       "      <td>0</td>\n",
       "      <td>0</td>\n",
       "      <td>0</td>\n",
       "      <td>0</td>\n",
       "      <td>200</td>\n",
       "      <td>24.0</td>\n",
       "      <td>12.0</td>\n",
       "    </tr>\n",
       "  </tbody>\n",
       "</table>\n",
       "</div>"
      ],
      "text/plain": [
       "   Day_Type  Hour  Area  RU_type  Capacity  Current_load  Load_Percentage\n",
       "0         0     0     0        0       200           0.0              0.0\n",
       "1         0     0     0        0       200          10.0              5.0\n",
       "2         0     0     0        0       200           5.0              2.5\n",
       "3         0     0     0        0       200          21.0             10.5\n",
       "4         0     0     0        0       200          24.0             12.0"
      ]
     },
     "execution_count": 12,
     "metadata": {},
     "output_type": "execute_result"
    }
   ],
   "source": [
    "x.head()"
   ]
  },
  {
   "cell_type": "code",
   "execution_count": 13,
   "id": "5e6ce71a",
   "metadata": {},
   "outputs": [
    {
     "data": {
      "text/plain": [
       "0    0\n",
       "1    1\n",
       "2    1\n",
       "3    1\n",
       "4    1\n",
       "Name: RU_Power, dtype: int64"
      ]
     },
     "execution_count": 13,
     "metadata": {},
     "output_type": "execute_result"
    }
   ],
   "source": [
    "y.head()"
   ]
  },
  {
   "cell_type": "code",
   "execution_count": 14,
   "id": "c7c56be4",
   "metadata": {},
   "outputs": [
    {
     "data": {
      "text/plain": [
       "(28080, 7)"
      ]
     },
     "execution_count": 14,
     "metadata": {},
     "output_type": "execute_result"
    }
   ],
   "source": [
    "x.shape"
   ]
  },
  {
   "cell_type": "code",
   "execution_count": 15,
   "id": "37bd460e",
   "metadata": {},
   "outputs": [
    {
     "data": {
      "text/plain": [
       "1    10804\n",
       "2     9374\n",
       "0     7902\n",
       "Name: RU_Power, dtype: int64"
      ]
     },
     "execution_count": 15,
     "metadata": {},
     "output_type": "execute_result"
    }
   ],
   "source": [
    "y.value_counts()"
   ]
  },
  {
   "cell_type": "code",
   "execution_count": 16,
   "id": "5f553e3e",
   "metadata": {},
   "outputs": [],
   "source": [
    "x['Current_load'] += np.random.normal(0, 0.5, size=len(x)) \n",
    "x['Load_Percentage'] += np.random.normal(0, 0.5, size=len(x))"
   ]
  },
  {
   "cell_type": "code",
   "execution_count": 17,
   "id": "8b5b18f5",
   "metadata": {},
   "outputs": [],
   "source": [
    "X_train, X_test, y_train, y_test = train_test_split(x,y, test_size=0.2, random_state=0, shuffle=True)"
   ]
  },
  {
   "cell_type": "code",
   "execution_count": 18,
   "id": "bf80b654",
   "metadata": {},
   "outputs": [
    {
     "name": "stdout",
     "output_type": "stream",
     "text": [
      "(22464, 7)\n",
      "(5616, 7)\n",
      "(22464,)\n",
      "(5616,)\n"
     ]
    }
   ],
   "source": [
    "print(X_train.shape)\n",
    "print(X_test.shape)\n",
    "print(y_train.shape)\n",
    "print(y_test.shape)"
   ]
  },
  {
   "cell_type": "code",
   "execution_count": 21,
   "id": "f12c3f0e",
   "metadata": {},
   "outputs": [
    {
     "name": "stdout",
     "output_type": "stream",
     "text": [
      "Collecting imbalanced-learn\n",
      "  Downloading imbalanced_learn-0.12.4-py3-none-any.whl.metadata (8.3 kB)\n",
      "Requirement already satisfied: numpy>=1.17.3 in /home/ec2-user/anaconda3/envs/python3/lib/python3.10/site-packages (from imbalanced-learn) (1.26.4)\n",
      "Requirement already satisfied: scipy>=1.5.0 in /home/ec2-user/anaconda3/envs/python3/lib/python3.10/site-packages (from imbalanced-learn) (1.14.1)\n",
      "Requirement already satisfied: scikit-learn>=1.0.2 in /home/ec2-user/anaconda3/envs/python3/lib/python3.10/site-packages (from imbalanced-learn) (1.2.1)\n",
      "Requirement already satisfied: joblib>=1.1.1 in /home/ec2-user/anaconda3/envs/python3/lib/python3.10/site-packages (from imbalanced-learn) (1.4.2)\n",
      "Requirement already satisfied: threadpoolctl>=2.0.0 in /home/ec2-user/anaconda3/envs/python3/lib/python3.10/site-packages (from imbalanced-learn) (3.5.0)\n",
      "Downloading imbalanced_learn-0.12.4-py3-none-any.whl (258 kB)\n",
      "Installing collected packages: imbalanced-learn\n",
      "Successfully installed imbalanced-learn-0.12.4\n"
     ]
    }
   ],
   "source": [
    "# !pip install imbalanced-learn"
   ]
  },
  {
   "cell_type": "code",
   "execution_count": 19,
   "id": "3c4d9865",
   "metadata": {},
   "outputs": [],
   "source": [
    "from imblearn.over_sampling import SMOTE\n",
    "smote = SMOTE(random_state=42)\n",
    "X_train_resampled, y_train_resampled = smote.fit_resample(X_train, y_train)\n",
    "\n",
    "trainX = pd.DataFrame(X_train_resampled, columns=features)\n",
    "trainX[label] = y_train_resampled\n",
    "\n",
    "testX = pd.DataFrame(X_test, columns=features)\n",
    "testX[label] = y_test"
   ]
  },
  {
   "cell_type": "code",
   "execution_count": 20,
   "id": "41a4e710",
   "metadata": {},
   "outputs": [
    {
     "name": "stdout",
     "output_type": "stream",
     "text": [
      "(26037, 8)\n",
      "(5616, 8)\n"
     ]
    }
   ],
   "source": [
    "print(trainX.shape)\n",
    "print(testX.shape)"
   ]
  },
  {
   "cell_type": "code",
   "execution_count": 21,
   "id": "332053ef",
   "metadata": {},
   "outputs": [
    {
     "data": {
      "text/html": [
       "<div>\n",
       "<style scoped>\n",
       "    .dataframe tbody tr th:only-of-type {\n",
       "        vertical-align: middle;\n",
       "    }\n",
       "\n",
       "    .dataframe tbody tr th {\n",
       "        vertical-align: top;\n",
       "    }\n",
       "\n",
       "    .dataframe thead th {\n",
       "        text-align: right;\n",
       "    }\n",
       "</style>\n",
       "<table border=\"1\" class=\"dataframe\">\n",
       "  <thead>\n",
       "    <tr style=\"text-align: right;\">\n",
       "      <th></th>\n",
       "      <th>Day_Type</th>\n",
       "      <th>Hour</th>\n",
       "      <th>Area</th>\n",
       "      <th>RU_type</th>\n",
       "      <th>Capacity</th>\n",
       "      <th>Current_load</th>\n",
       "      <th>Load_Percentage</th>\n",
       "      <th>RU_Power</th>\n",
       "    </tr>\n",
       "  </thead>\n",
       "  <tbody>\n",
       "    <tr>\n",
       "      <th>6692</th>\n",
       "      <td>0</td>\n",
       "      <td>3</td>\n",
       "      <td>0</td>\n",
       "      <td>1</td>\n",
       "      <td>150</td>\n",
       "      <td>0.596518</td>\n",
       "      <td>-0.037319</td>\n",
       "      <td>0</td>\n",
       "    </tr>\n",
       "    <tr>\n",
       "      <th>20271</th>\n",
       "      <td>0</td>\n",
       "      <td>15</td>\n",
       "      <td>1</td>\n",
       "      <td>1</td>\n",
       "      <td>150</td>\n",
       "      <td>8.294943</td>\n",
       "      <td>6.116588</td>\n",
       "      <td>1</td>\n",
       "    </tr>\n",
       "    <tr>\n",
       "      <th>24093</th>\n",
       "      <td>0</td>\n",
       "      <td>17</td>\n",
       "      <td>1</td>\n",
       "      <td>1</td>\n",
       "      <td>150</td>\n",
       "      <td>42.143056</td>\n",
       "      <td>28.387529</td>\n",
       "      <td>1</td>\n",
       "    </tr>\n",
       "    <tr>\n",
       "      <th>17755</th>\n",
       "      <td>0</td>\n",
       "      <td>23</td>\n",
       "      <td>1</td>\n",
       "      <td>0</td>\n",
       "      <td>200</td>\n",
       "      <td>146.673222</td>\n",
       "      <td>73.421599</td>\n",
       "      <td>2</td>\n",
       "    </tr>\n",
       "    <tr>\n",
       "      <th>11934</th>\n",
       "      <td>1</td>\n",
       "      <td>18</td>\n",
       "      <td>0</td>\n",
       "      <td>0</td>\n",
       "      <td>200</td>\n",
       "      <td>13.321953</td>\n",
       "      <td>6.590370</td>\n",
       "      <td>1</td>\n",
       "    </tr>\n",
       "  </tbody>\n",
       "</table>\n",
       "</div>"
      ],
      "text/plain": [
       "       Day_Type  Hour  Area  RU_type  Capacity  Current_load  Load_Percentage  \\\n",
       "6692          0     3     0        1       150      0.596518        -0.037319   \n",
       "20271         0    15     1        1       150      8.294943         6.116588   \n",
       "24093         0    17     1        1       150     42.143056        28.387529   \n",
       "17755         0    23     1        0       200    146.673222        73.421599   \n",
       "11934         1    18     0        0       200     13.321953         6.590370   \n",
       "\n",
       "       RU_Power  \n",
       "6692          0  \n",
       "20271         1  \n",
       "24093         1  \n",
       "17755         2  \n",
       "11934         1  "
      ]
     },
     "execution_count": 21,
     "metadata": {},
     "output_type": "execute_result"
    }
   ],
   "source": [
    "testX.head()"
   ]
  },
  {
   "cell_type": "code",
   "execution_count": 22,
   "id": "323fb037",
   "metadata": {},
   "outputs": [
    {
     "data": {
      "text/plain": [
       "Day_Type           0\n",
       "Hour               0\n",
       "Area               0\n",
       "RU_type            0\n",
       "Capacity           0\n",
       "Current_load       0\n",
       "Load_Percentage    0\n",
       "RU_Power           0\n",
       "dtype: int64"
      ]
     },
     "execution_count": 22,
     "metadata": {},
     "output_type": "execute_result"
    }
   ],
   "source": [
    "trainX.isnull().sum()"
   ]
  },
  {
   "cell_type": "code",
   "execution_count": 23,
   "id": "4b046ca1",
   "metadata": {},
   "outputs": [
    {
     "data": {
      "text/plain": [
       "Day_Type           0\n",
       "Hour               0\n",
       "Area               0\n",
       "RU_type            0\n",
       "Capacity           0\n",
       "Current_load       0\n",
       "Load_Percentage    0\n",
       "RU_Power           0\n",
       "dtype: int64"
      ]
     },
     "execution_count": 23,
     "metadata": {},
     "output_type": "execute_result"
    }
   ],
   "source": [
    "testX.isnull().sum()"
   ]
  },
  {
   "cell_type": "code",
   "execution_count": 24,
   "id": "7578e6ca",
   "metadata": {},
   "outputs": [],
   "source": [
    "trainX.to_csv(\"train-V-1.csv\",index = False)\n",
    "testX.to_csv(\"test-V-1.csv\", index = False)"
   ]
  },
  {
   "cell_type": "code",
   "execution_count": 25,
   "id": "0ab09d32",
   "metadata": {},
   "outputs": [],
   "source": [
    "# send data to S3. SageMaker will take training data from s3\n",
    "sk_prefix = \"sagemaker/RU_Power_classification/sklearncontainer\"\n",
    "trainpath = sess.upload_data(\n",
    "    path=\"train-V-1.csv\", bucket=bucket, key_prefix=sk_prefix\n",
    ")\n",
    "\n",
    "testpath = sess.upload_data(\n",
    "    path=\"test-V-1.csv\", bucket=bucket, key_prefix=sk_prefix\n",
    ")"
   ]
  },
  {
   "cell_type": "code",
   "execution_count": 26,
   "id": "0503f258",
   "metadata": {},
   "outputs": [
    {
     "data": {
      "text/plain": [
       "'s3://bucket-sagemaker-ml/sagemaker/RU_Power_classification/sklearncontainer/test-V-1.csv'"
      ]
     },
     "execution_count": 26,
     "metadata": {},
     "output_type": "execute_result"
    }
   ],
   "source": [
    "testpath"
   ]
  },
  {
   "cell_type": "code",
   "execution_count": 27,
   "id": "7f391197",
   "metadata": {},
   "outputs": [
    {
     "data": {
      "text/plain": [
       "'s3://bucket-sagemaker-ml/sagemaker/RU_Power_classification/sklearncontainer/train-V-1.csv'"
      ]
     },
     "execution_count": 27,
     "metadata": {},
     "output_type": "execute_result"
    }
   ],
   "source": [
    "trainpath"
   ]
  },
  {
   "cell_type": "code",
   "execution_count": 28,
   "id": "3bad8a79",
   "metadata": {},
   "outputs": [
    {
     "name": "stdout",
     "output_type": "stream",
     "text": [
      "Writing script.py\n"
     ]
    }
   ],
   "source": [
    "%%writefile script.py\n",
    "\n",
    "\n",
    "from sklearn.ensemble import RandomForestClassifier\n",
    "from sklearn.metrics import accuracy_score, classification_report, confusion_matrix, precision_score, recall_score, f1_score, roc_curve, auc\n",
    "import sklearn\n",
    "import joblib\n",
    "import boto3\n",
    "import pathlib\n",
    "from io import StringIO \n",
    "import argparse\n",
    "import joblib\n",
    "import os\n",
    "import numpy as np\n",
    "import pandas as pd \n",
    "    \n",
    "def model_fn(model_dir):\n",
    "    clf = joblib.load(os.path.join(model_dir, \"model.joblib\"))\n",
    "    return clf      \n",
    "    \n",
    "if __name__ == \"__main__\":\n",
    "\n",
    "    print(\"[INFO] Extracting arguments\")\n",
    "    parser = argparse.ArgumentParser()\n",
    "\n",
    "    # hyperparameters sent by the client are passed as command-line arguments to the script.\n",
    "    parser.add_argument(\"--n_estimators\", type=int, default=100)\n",
    "    parser.add_argument(\"--random_state\", type=int, default=0)\n",
    "\n",
    "    # Data, model, and output directories\n",
    "    parser.add_argument(\"--model-dir\", type=str, default=os.environ.get(\"SM_MODEL_DIR\"))\n",
    "    parser.add_argument(\"--train\", type=str, default=os.environ.get(\"SM_CHANNEL_TRAIN\"))\n",
    "    parser.add_argument(\"--test\", type=str, default=os.environ.get(\"SM_CHANNEL_TEST\"))\n",
    "    parser.add_argument(\"--train-file\", type=str, default=\"train-V-1.csv\")\n",
    "    parser.add_argument(\"--test-file\", type=str, default=\"test-V-1.csv\")\n",
    "\n",
    "    args, _ = parser.parse_known_args()\n",
    "    \n",
    "    print(\"SKLearn Version: \", sklearn.__version__)\n",
    "    print(\"Joblib Version: \", joblib.__version__)\n",
    "\n",
    "    print(\"[INFO] Reading data\")\n",
    "    print()\n",
    "    train_df = pd.read_csv(os.path.join(args.train, args.train_file))\n",
    "    test_df = pd.read_csv(os.path.join(args.test, args.test_file))\n",
    "    \n",
    "    features = list(train_df.columns)\n",
    "    label = features.pop(-1)\n",
    "    \n",
    "    print(\"Building training and testing datasets\")\n",
    "    print()\n",
    "    X_train = train_df[features]\n",
    "    X_test = test_df[features]\n",
    "    y_train = train_df[label]\n",
    "    y_test = test_df[label]\n",
    "\n",
    "    print('Column order: ')\n",
    "    print(features)\n",
    "    print()\n",
    "    \n",
    "    print(\"Label column is: \",label)\n",
    "    print()\n",
    "    \n",
    "    print(\"Data Shape: \")\n",
    "    print()\n",
    "    print(\"---- SHAPE OF TRAINING DATA (80%) ----\")\n",
    "    print(X_train.shape)\n",
    "    print(y_train.shape)\n",
    "    print()\n",
    "    print(\"---- SHAPE OF TESTING DATA (20%) ----\")\n",
    "    print(X_test.shape)\n",
    "    print(y_test.shape)\n",
    "    print()\n",
    "    \n",
    "  \n",
    "    print(\"Training RandomForest Model.....\")\n",
    "    print()\n",
    "    model =  RandomForestClassifier(n_estimators=args.n_estimators, random_state=args.random_state, verbose = 3,n_jobs=-1)\n",
    "    model.fit(X_train, y_train)\n",
    "    print()\n",
    "    \n",
    "\n",
    "    model_path = os.path.join(args.model_dir, \"model.joblib\")\n",
    "    joblib.dump(model,model_path)\n",
    "    print(\"Model persisted at \" + model_path)\n",
    "    print()\n",
    "\n",
    "    \n",
    "    y_pred_test = model.predict(X_test)\n",
    "    test_acc = accuracy_score(y_test,y_pred_test)\n",
    "    test_rep = classification_report(y_test,y_pred_test)\n",
    "\n",
    "    print()\n",
    "    print(\"---- METRICS RESULTS FOR TESTING DATA ----\")\n",
    "    print()\n",
    "    print(\"Total Rows are: \", X_test.shape[0])\n",
    "    print('[TESTING] Model Accuracy is: ', test_acc*100)\n",
    "    print('[TESTING] Testing Report: ')\n",
    "    print(test_rep)"
   ]
  },
  {
   "cell_type": "code",
   "execution_count": 29,
   "id": "daf95bc6",
   "metadata": {},
   "outputs": [
    {
     "name": "stdout",
     "output_type": "stream",
     "text": [
      "[INFO] Extracting arguments\n",
      "SKLearn Version:  1.2.1\n",
      "Joblib Version:  1.4.2\n",
      "[INFO] Reading data\n",
      "\n",
      "Building training and testing datasets\n",
      "\n",
      "Column order: \n",
      "['Day_Type', 'Hour', 'Area', 'RU_type', 'Capacity', 'Current_load', 'Load_Percentage']\n",
      "\n",
      "Label column is:  RU_Power\n",
      "\n",
      "Data Shape: \n",
      "\n",
      "---- SHAPE OF TRAINING DATA (80%) ----\n",
      "(26037, 7)\n",
      "(26037,)\n",
      "\n",
      "---- SHAPE OF TESTING DATA (20%) ----\n",
      "(5616, 7)\n",
      "(5616,)\n",
      "\n",
      "Training RandomForest Model.....\n",
      "\n",
      "[Parallel(n_jobs=-1)]: Using backend ThreadingBackend with 2 concurrent workers.\n",
      "building tree 1 of 100\n",
      "building tree 2 of 100\n",
      "building tree 3 of 100\n",
      "building tree 4 of 100\n",
      "building tree 5 of 100\n",
      "building tree 6 of 100\n",
      "building tree 7 of 100\n",
      "building tree 8 of 100\n",
      "building tree 9 of 100\n",
      "building tree 10 of 100\n",
      "building tree 11 of 100\n",
      "building tree 12 of 100\n",
      "building tree 13 of 100\n",
      "building tree 14 of 100\n",
      "building tree 15 of 100\n",
      "building tree 16 of 100\n",
      "building tree 17 of 100\n",
      "building tree 18 of 100\n",
      "building tree 19 of 100\n",
      "building tree 20 of 100\n",
      "building tree 21 of 100\n",
      "building tree 22 of 100\n",
      "building tree 23 of 100\n",
      "building tree 24 of 100\n",
      "building tree 25 of 100\n",
      "building tree 26 of 100\n",
      "building tree 27 of 100\n",
      "building tree 28 of 100\n",
      "building tree 29 of 100\n",
      "[Parallel(n_jobs=-1)]: Done  28 tasks      | elapsed:    0.4s\n",
      "building tree 30 of 100\n",
      "building tree 31 of 100\n",
      "building tree 32 of 100\n",
      "building tree 33 of 100\n",
      "building tree 34 of 100\n",
      "building tree 35 of 100\n",
      "building tree 36 of 100\n",
      "building tree 37 of 100\n",
      "building tree 38 of 100\n",
      "building tree 39 of 100\n",
      "building tree 40 of 100\n",
      "building tree 41 of 100\n",
      "building tree 42 of 100\n",
      "building tree 43 of 100\n",
      "building tree 44 of 100\n",
      "building tree 45 of 100\n",
      "building tree 46 of 100\n",
      "building tree 47 of 100\n",
      "building tree 48 of 100\n",
      "building tree 49 of 100\n",
      "building tree 50 of 100\n",
      "building tree 51 of 100\n",
      "building tree 52 of 100\n",
      "building tree 53 of 100\n",
      "building tree 54 of 100\n",
      "building tree 55 of 100\n",
      "building tree 56 of 100\n",
      "building tree 57 of 100\n",
      "building tree 58 of 100\n",
      "building tree 59 of 100\n",
      "building tree 60 of 100\n",
      "building tree 61 of 100\n",
      "building tree 62 of 100\n",
      "building tree 63 of 100\n",
      "building tree 64 of 100\n",
      "building tree 65 of 100\n",
      "building tree 66 of 100\n",
      "building tree 67 of 100\n",
      "building tree 68 of 100\n",
      "building tree 69 of 100\n",
      "building tree 70 of 100\n",
      "building tree 71 of 100\n",
      "building tree 72 of 100\n",
      "building tree 73 of 100\n",
      "building tree 74 of 100\n",
      "building tree 75 of 100\n",
      "building tree 76 of 100\n",
      "building tree 77 of 100\n",
      "building tree 78 of 100\n",
      "building tree 79 of 100\n",
      "building tree 80 of 100\n",
      "building tree 81 of 100\n",
      "building tree 82 of 100\n",
      "building tree 83 of 100\n",
      "building tree 84 of 100\n",
      "building tree 85 of 100\n",
      "building tree 86 of 100\n",
      "building tree 87 of 100\n",
      "building tree 88 of 100\n",
      "building tree 89 of 100\n",
      "building tree 90 of 100\n",
      "building tree 91 of 100\n",
      "building tree 92 of 100\n",
      "building tree 93 of 100\n",
      "building tree 94 of 100\n",
      "building tree 95 of 100\n",
      "building tree 96 of 100\n",
      "building tree 97 of 100\n",
      "building tree 98 of 100\n",
      "building tree 99 of 100\n",
      "building tree 100 of 100\n",
      "[Parallel(n_jobs=-1)]: Done 100 out of 100 | elapsed:    1.4s finished\n",
      "\n",
      "Model persisted at ./model.joblib\n",
      "\n",
      "[Parallel(n_jobs=2)]: Using backend ThreadingBackend with 2 concurrent workers.\n",
      "[Parallel(n_jobs=2)]: Done  28 tasks      | elapsed:    0.0s\n",
      "[Parallel(n_jobs=2)]: Done 100 out of 100 | elapsed:    0.1s finished\n",
      "\n",
      "---- METRICS RESULTS FOR TESTING DATA ----\n",
      "\n",
      "Total Rows are:  5616\n",
      "[TESTING] Model Accuracy is:  99.09188034188034\n",
      "[TESTING] Testing Report: \n",
      "              precision    recall  f1-score   support\n",
      "\n",
      "           0       0.98      0.99      0.99      1612\n",
      "           1       0.99      0.98      0.99      2125\n",
      "           2       1.00      1.00      1.00      1879\n",
      "\n",
      "    accuracy                           0.99      5616\n",
      "   macro avg       0.99      0.99      0.99      5616\n",
      "weighted avg       0.99      0.99      0.99      5616\n",
      "\n"
     ]
    }
   ],
   "source": [
    "! python script.py --n_estimators 100 \\\n",
    "                   --random_state 0 \\\n",
    "                   --model-dir ./ \\\n",
    "                   --train ./ \\\n",
    "                   --test ./ \\"
   ]
  },
  {
   "cell_type": "code",
   "execution_count": 30,
   "id": "49d9b5f8",
   "metadata": {},
   "outputs": [],
   "source": [
    "from sagemaker.sklearn.estimator import SKLearn\n",
    "\n",
    "FRAMEWORK_VERSION = \"1.2-1\"\n",
    "\n",
    "sklearn_estimator = SKLearn(\n",
    "    entry_point=\"script.py\",\n",
    "    role=get_execution_role(),\n",
    "    instance_count=1,\n",
    "    instance_type=\"ml.m5.large\",\n",
    "    framework_version=FRAMEWORK_VERSION,\n",
    "    base_job_name=\"custom-sklearn\",\n",
    "    hyperparameters={\n",
    "        \"n_estimators\": 100,\n",
    "        \"random_state\": 0,\n",
    "    },\n",
    "    use_spot_instances = True,\n",
    "    max_wait = 7200,\n",
    "    max_run = 3600\n",
    ")"
   ]
  },
  {
   "cell_type": "code",
   "execution_count": 31,
   "id": "2d9c6bd3",
   "metadata": {},
   "outputs": [
    {
     "name": "stderr",
     "output_type": "stream",
     "text": [
      "INFO:sagemaker:Creating training-job with name: custom-sklearn-2024-11-28-12-34-20-279\n"
     ]
    },
    {
     "name": "stdout",
     "output_type": "stream",
     "text": [
      "2024-11-28 12:34:23 Starting - Starting the training job...\n",
      "2024-11-28 12:34:38 Starting - Preparing the instances for training...\n",
      "2024-11-28 12:35:03 Downloading - Downloading input data...\n",
      "2024-11-28 12:35:28 Downloading - Downloading the training image...\n",
      "2024-11-28 12:36:24 Training - Training image download completed. Training in progress...\u001b[34m2024-11-28 12:36:28,955 sagemaker-containers INFO     Imported framework sagemaker_sklearn_container.training\u001b[0m\n",
      "\u001b[34m2024-11-28 12:36:28,959 sagemaker-training-toolkit INFO     No GPUs detected (normal if no gpus installed)\u001b[0m\n",
      "\u001b[34m2024-11-28 12:36:28,961 sagemaker-training-toolkit INFO     No Neurons detected (normal if no neurons installed)\u001b[0m\n",
      "\u001b[34m2024-11-28 12:36:28,976 sagemaker_sklearn_container.training INFO     Invoking user training script.\u001b[0m\n",
      "\u001b[34m2024-11-28 12:36:29,156 sagemaker-training-toolkit INFO     No GPUs detected (normal if no gpus installed)\u001b[0m\n",
      "\u001b[34m2024-11-28 12:36:29,159 sagemaker-training-toolkit INFO     No Neurons detected (normal if no neurons installed)\u001b[0m\n",
      "\u001b[34m2024-11-28 12:36:29,177 sagemaker-training-toolkit INFO     No GPUs detected (normal if no gpus installed)\u001b[0m\n",
      "\u001b[34m2024-11-28 12:36:29,180 sagemaker-training-toolkit INFO     No Neurons detected (normal if no neurons installed)\u001b[0m\n",
      "\u001b[34m2024-11-28 12:36:29,199 sagemaker-training-toolkit INFO     No GPUs detected (normal if no gpus installed)\u001b[0m\n",
      "\u001b[34m2024-11-28 12:36:29,202 sagemaker-training-toolkit INFO     No Neurons detected (normal if no neurons installed)\u001b[0m\n",
      "\u001b[34m2024-11-28 12:36:29,261 sagemaker-training-toolkit INFO     Invoking user script\u001b[0m\n",
      "\u001b[34mTraining Env:\u001b[0m\n",
      "\u001b[34m{\n",
      "    \"additional_framework_parameters\": {},\n",
      "    \"channel_input_dirs\": {\n",
      "        \"test\": \"/opt/ml/input/data/test\",\n",
      "        \"train\": \"/opt/ml/input/data/train\"\n",
      "    },\n",
      "    \"current_host\": \"algo-1\",\n",
      "    \"current_instance_group\": \"homogeneousCluster\",\n",
      "    \"current_instance_group_hosts\": [\n",
      "        \"algo-1\"\n",
      "    ],\n",
      "    \"current_instance_type\": \"ml.m5.large\",\n",
      "    \"distribution_hosts\": [],\n",
      "    \"distribution_instance_groups\": [],\n",
      "    \"framework_module\": \"sagemaker_sklearn_container.training:main\",\n",
      "    \"hosts\": [\n",
      "        \"algo-1\"\n",
      "    ],\n",
      "    \"hyperparameters\": {\n",
      "        \"n_estimators\": 100,\n",
      "        \"random_state\": 0\n",
      "    },\n",
      "    \"input_config_dir\": \"/opt/ml/input/config\",\n",
      "    \"input_data_config\": {\n",
      "        \"test\": {\n",
      "            \"TrainingInputMode\": \"File\",\n",
      "            \"S3DistributionType\": \"FullyReplicated\",\n",
      "            \"RecordWrapperType\": \"None\"\n",
      "        },\n",
      "        \"train\": {\n",
      "            \"TrainingInputMode\": \"File\",\n",
      "            \"S3DistributionType\": \"FullyReplicated\",\n",
      "            \"RecordWrapperType\": \"None\"\n",
      "        }\n",
      "    },\n",
      "    \"input_dir\": \"/opt/ml/input\",\n",
      "    \"instance_groups\": [\n",
      "        \"homogeneousCluster\"\n",
      "    ],\n",
      "    \"instance_groups_dict\": {\n",
      "        \"homogeneousCluster\": {\n",
      "            \"instance_group_name\": \"homogeneousCluster\",\n",
      "            \"instance_type\": \"ml.m5.large\",\n",
      "            \"hosts\": [\n",
      "                \"algo-1\"\n",
      "            ]\n",
      "        }\n",
      "    },\n",
      "    \"is_hetero\": false,\n",
      "    \"is_master\": true,\n",
      "    \"is_modelparallel_enabled\": null,\n",
      "    \"is_smddpmprun_installed\": false,\n",
      "    \"is_smddprun_installed\": false,\n",
      "    \"job_name\": \"custom-sklearn-2024-11-28-12-34-20-279\",\n",
      "    \"log_level\": 20,\n",
      "    \"master_hostname\": \"algo-1\",\n",
      "    \"model_dir\": \"/opt/ml/model\",\n",
      "    \"module_dir\": \"s3://sagemaker-us-east-1-423623834574/custom-sklearn-2024-11-28-12-34-20-279/source/sourcedir.tar.gz\",\n",
      "    \"module_name\": \"script\",\n",
      "    \"network_interface_name\": \"eth0\",\n",
      "    \"num_cpus\": 2,\n",
      "    \"num_gpus\": 0,\n",
      "    \"num_neurons\": 0,\n",
      "    \"output_data_dir\": \"/opt/ml/output/data\",\n",
      "    \"output_dir\": \"/opt/ml/output\",\n",
      "    \"output_intermediate_dir\": \"/opt/ml/output/intermediate\",\n",
      "    \"resource_config\": {\n",
      "        \"current_host\": \"algo-1\",\n",
      "        \"current_instance_type\": \"ml.m5.large\",\n",
      "        \"current_group_name\": \"homogeneousCluster\",\n",
      "        \"hosts\": [\n",
      "            \"algo-1\"\n",
      "        ],\n",
      "        \"instance_groups\": [\n",
      "            {\n",
      "                \"instance_group_name\": \"homogeneousCluster\",\n",
      "                \"instance_type\": \"ml.m5.large\",\n",
      "                \"hosts\": [\n",
      "                    \"algo-1\"\n",
      "                ]\n",
      "            }\n",
      "        ],\n",
      "        \"network_interface_name\": \"eth0\"\n",
      "    },\n",
      "    \"user_entry_point\": \"script.py\"\u001b[0m\n",
      "\u001b[34m}\u001b[0m\n",
      "\u001b[34mEnvironment variables:\u001b[0m\n",
      "\u001b[34mSM_HOSTS=[\"algo-1\"]\u001b[0m\n",
      "\u001b[34mSM_NETWORK_INTERFACE_NAME=eth0\u001b[0m\n",
      "\u001b[34mSM_HPS={\"n_estimators\":100,\"random_state\":0}\u001b[0m\n",
      "\u001b[34mSM_USER_ENTRY_POINT=script.py\u001b[0m\n",
      "\u001b[34mSM_FRAMEWORK_PARAMS={}\u001b[0m\n",
      "\u001b[34mSM_RESOURCE_CONFIG={\"current_group_name\":\"homogeneousCluster\",\"current_host\":\"algo-1\",\"current_instance_type\":\"ml.m5.large\",\"hosts\":[\"algo-1\"],\"instance_groups\":[{\"hosts\":[\"algo-1\"],\"instance_group_name\":\"homogeneousCluster\",\"instance_type\":\"ml.m5.large\"}],\"network_interface_name\":\"eth0\"}\u001b[0m\n",
      "\u001b[34mSM_INPUT_DATA_CONFIG={\"test\":{\"RecordWrapperType\":\"None\",\"S3DistributionType\":\"FullyReplicated\",\"TrainingInputMode\":\"File\"},\"train\":{\"RecordWrapperType\":\"None\",\"S3DistributionType\":\"FullyReplicated\",\"TrainingInputMode\":\"File\"}}\u001b[0m\n",
      "\u001b[34mSM_OUTPUT_DATA_DIR=/opt/ml/output/data\u001b[0m\n",
      "\u001b[34mSM_CHANNELS=[\"test\",\"train\"]\u001b[0m\n",
      "\u001b[34mSM_CURRENT_HOST=algo-1\u001b[0m\n",
      "\u001b[34mSM_CURRENT_INSTANCE_TYPE=ml.m5.large\u001b[0m\n",
      "\u001b[34mSM_CURRENT_INSTANCE_GROUP=homogeneousCluster\u001b[0m\n",
      "\u001b[34mSM_CURRENT_INSTANCE_GROUP_HOSTS=[\"algo-1\"]\u001b[0m\n",
      "\u001b[34mSM_INSTANCE_GROUPS=[\"homogeneousCluster\"]\u001b[0m\n",
      "\u001b[34mSM_INSTANCE_GROUPS_DICT={\"homogeneousCluster\":{\"hosts\":[\"algo-1\"],\"instance_group_name\":\"homogeneousCluster\",\"instance_type\":\"ml.m5.large\"}}\u001b[0m\n",
      "\u001b[34mSM_DISTRIBUTION_INSTANCE_GROUPS=[]\u001b[0m\n",
      "\u001b[34mSM_IS_HETERO=false\u001b[0m\n",
      "\u001b[34mSM_MODULE_NAME=script\u001b[0m\n",
      "\u001b[34mSM_LOG_LEVEL=20\u001b[0m\n",
      "\u001b[34mSM_FRAMEWORK_MODULE=sagemaker_sklearn_container.training:main\u001b[0m\n",
      "\u001b[34mSM_INPUT_DIR=/opt/ml/input\u001b[0m\n",
      "\u001b[34mSM_INPUT_CONFIG_DIR=/opt/ml/input/config\u001b[0m\n",
      "\u001b[34mSM_OUTPUT_DIR=/opt/ml/output\u001b[0m\n",
      "\u001b[34mSM_NUM_CPUS=2\u001b[0m\n",
      "\u001b[34mSM_NUM_GPUS=0\u001b[0m\n",
      "\u001b[34mSM_NUM_NEURONS=0\u001b[0m\n",
      "\u001b[34mSM_MODEL_DIR=/opt/ml/model\u001b[0m\n",
      "\u001b[34mSM_MODULE_DIR=s3://sagemaker-us-east-1-423623834574/custom-sklearn-2024-11-28-12-34-20-279/source/sourcedir.tar.gz\u001b[0m\n",
      "\u001b[34mSM_TRAINING_ENV={\"additional_framework_parameters\":{},\"channel_input_dirs\":{\"test\":\"/opt/ml/input/data/test\",\"train\":\"/opt/ml/input/data/train\"},\"current_host\":\"algo-1\",\"current_instance_group\":\"homogeneousCluster\",\"current_instance_group_hosts\":[\"algo-1\"],\"current_instance_type\":\"ml.m5.large\",\"distribution_hosts\":[],\"distribution_instance_groups\":[],\"framework_module\":\"sagemaker_sklearn_container.training:main\",\"hosts\":[\"algo-1\"],\"hyperparameters\":{\"n_estimators\":100,\"random_state\":0},\"input_config_dir\":\"/opt/ml/input/config\",\"input_data_config\":{\"test\":{\"RecordWrapperType\":\"None\",\"S3DistributionType\":\"FullyReplicated\",\"TrainingInputMode\":\"File\"},\"train\":{\"RecordWrapperType\":\"None\",\"S3DistributionType\":\"FullyReplicated\",\"TrainingInputMode\":\"File\"}},\"input_dir\":\"/opt/ml/input\",\"instance_groups\":[\"homogeneousCluster\"],\"instance_groups_dict\":{\"homogeneousCluster\":{\"hosts\":[\"algo-1\"],\"instance_group_name\":\"homogeneousCluster\",\"instance_type\":\"ml.m5.large\"}},\"is_hetero\":false,\"is_master\":true,\"is_modelparallel_enabled\":null,\"is_smddpmprun_installed\":false,\"is_smddprun_installed\":false,\"job_name\":\"custom-sklearn-2024-11-28-12-34-20-279\",\"log_level\":20,\"master_hostname\":\"algo-1\",\"model_dir\":\"/opt/ml/model\",\"module_dir\":\"s3://sagemaker-us-east-1-423623834574/custom-sklearn-2024-11-28-12-34-20-279/source/sourcedir.tar.gz\",\"module_name\":\"script\",\"network_interface_name\":\"eth0\",\"num_cpus\":2,\"num_gpus\":0,\"num_neurons\":0,\"output_data_dir\":\"/opt/ml/output/data\",\"output_dir\":\"/opt/ml/output\",\"output_intermediate_dir\":\"/opt/ml/output/intermediate\",\"resource_config\":{\"current_group_name\":\"homogeneousCluster\",\"current_host\":\"algo-1\",\"current_instance_type\":\"ml.m5.large\",\"hosts\":[\"algo-1\"],\"instance_groups\":[{\"hosts\":[\"algo-1\"],\"instance_group_name\":\"homogeneousCluster\",\"instance_type\":\"ml.m5.large\"}],\"network_interface_name\":\"eth0\"},\"user_entry_point\":\"script.py\"}\u001b[0m\n",
      "\u001b[34mSM_USER_ARGS=[\"--n_estimators\",\"100\",\"--random_state\",\"0\"]\u001b[0m\n",
      "\u001b[34mSM_OUTPUT_INTERMEDIATE_DIR=/opt/ml/output/intermediate\u001b[0m\n",
      "\u001b[34mSM_CHANNEL_TEST=/opt/ml/input/data/test\u001b[0m\n",
      "\u001b[34mSM_CHANNEL_TRAIN=/opt/ml/input/data/train\u001b[0m\n",
      "\u001b[34mSM_HP_N_ESTIMATORS=100\u001b[0m\n",
      "\u001b[34mSM_HP_RANDOM_STATE=0\u001b[0m\n",
      "\u001b[34mPYTHONPATH=/opt/ml/code:/miniconda3/bin:/miniconda3/lib/python39.zip:/miniconda3/lib/python3.9:/miniconda3/lib/python3.9/lib-dynload:/miniconda3/lib/python3.9/site-packages:/miniconda3/lib/python3.9/site-packages/setuptools/_vendor\u001b[0m\n",
      "\u001b[34mInvoking script with the following command:\u001b[0m\n",
      "\u001b[34m/miniconda3/bin/python script.py --n_estimators 100 --random_state 0\u001b[0m\n",
      "\u001b[34m2024-11-28 12:36:29,264 sagemaker-training-toolkit INFO     Exceptions not imported for SageMaker Debugger as it is not installed.\u001b[0m\n",
      "\u001b[34m2024-11-28 12:36:29,264 sagemaker-training-toolkit INFO     Exceptions not imported for SageMaker TF as Tensorflow is not installed.\u001b[0m\n",
      "\u001b[34m[INFO] Extracting arguments\u001b[0m\n",
      "\u001b[34mSKLearn Version:  1.2.1\u001b[0m\n",
      "\u001b[34mJoblib Version:  1.4.2\u001b[0m\n",
      "\u001b[34m[INFO] Reading data\u001b[0m\n",
      "\u001b[34mBuilding training and testing datasets\u001b[0m\n",
      "\u001b[34mColumn order: \u001b[0m\n",
      "\u001b[34m['Day_Type', 'Hour', 'Area', 'RU_type', 'Capacity', 'Current_load', 'Load_Percentage']\u001b[0m\n",
      "\u001b[34mLabel column is:  RU_Power\u001b[0m\n",
      "\u001b[34mData Shape: \u001b[0m\n",
      "\u001b[34m---- SHAPE OF TRAINING DATA (80%) ----\u001b[0m\n",
      "\u001b[34m(26037, 7)\u001b[0m\n",
      "\u001b[34m(26037,)\u001b[0m\n",
      "\u001b[34m---- SHAPE OF TESTING DATA (20%) ----\u001b[0m\n",
      "\u001b[34m(5616, 7)\u001b[0m\n",
      "\u001b[34m(5616,)\u001b[0m\n",
      "\u001b[34mTraining RandomForest Model.....\u001b[0m\n",
      "\u001b[34m[Parallel(n_jobs=-1)]: Using backend ThreadingBackend with 2 concurrent workers.\u001b[0m\n",
      "\u001b[34mbuilding tree 1 of 100building tree 2 of 100\u001b[0m\n",
      "\u001b[34mbuilding tree 3 of 100\u001b[0m\n",
      "\u001b[34mbuilding tree 4 of 100\u001b[0m\n",
      "\u001b[34mbuilding tree 5 of 100\u001b[0m\n",
      "\u001b[34mbuilding tree 6 of 100\u001b[0m\n",
      "\u001b[34mbuilding tree 7 of 100\u001b[0m\n",
      "\u001b[34mbuilding tree 8 of 100\u001b[0m\n",
      "\u001b[34mbuilding tree 9 of 100\u001b[0m\n",
      "\u001b[34mbuilding tree 10 of 100\u001b[0m\n",
      "\u001b[34mbuilding tree 11 of 100\u001b[0m\n",
      "\u001b[34mbuilding tree 12 of 100\u001b[0m\n",
      "\u001b[34mbuilding tree 13 of 100\u001b[0m\n",
      "\u001b[34mbuilding tree 14 of 100\u001b[0m\n",
      "\u001b[34mbuilding tree 15 of 100\u001b[0m\n",
      "\u001b[34mbuilding tree 16 of 100\u001b[0m\n",
      "\u001b[34mbuilding tree 17 of 100\u001b[0m\n",
      "\u001b[34mbuilding tree 18 of 100\u001b[0m\n",
      "\u001b[34mbuilding tree 19 of 100\u001b[0m\n",
      "\u001b[34mbuilding tree 20 of 100\u001b[0m\n",
      "\u001b[34mbuilding tree 21 of 100\u001b[0m\n",
      "\u001b[34mbuilding tree 22 of 100\u001b[0m\n",
      "\u001b[34mbuilding tree 23 of 100\u001b[0m\n",
      "\u001b[34mbuilding tree 24 of 100\u001b[0m\n",
      "\u001b[34mbuilding tree 25 of 100\u001b[0m\n",
      "\u001b[34mbuilding tree 26 of 100\u001b[0m\n",
      "\u001b[34mbuilding tree 27 of 100\u001b[0m\n",
      "\u001b[34mbuilding tree 28 of 100\u001b[0m\n",
      "\u001b[34mbuilding tree 29 of 100\u001b[0m\n",
      "\u001b[34m[Parallel(n_jobs=-1)]: Done  28 tasks      | elapsed:    0.4s\u001b[0m\n",
      "\u001b[34mbuilding tree 30 of 100\u001b[0m\n",
      "\u001b[34mbuilding tree 31 of 100\u001b[0m\n",
      "\u001b[34mbuilding tree 32 of 100\u001b[0m\n",
      "\u001b[34mbuilding tree 33 of 100\u001b[0m\n",
      "\u001b[34mbuilding tree 34 of 100\u001b[0m\n",
      "\u001b[34mbuilding tree 35 of 100\u001b[0m\n",
      "\u001b[34mbuilding tree 36 of 100\u001b[0m\n",
      "\u001b[34mbuilding tree 37 of 100\u001b[0m\n",
      "\u001b[34mbuilding tree 38 of 100\u001b[0m\n",
      "\u001b[34mbuilding tree 39 of 100\u001b[0m\n",
      "\u001b[34mbuilding tree 40 of 100\u001b[0m\n",
      "\u001b[34mbuilding tree 41 of 100\u001b[0m\n",
      "\u001b[34mbuilding tree 42 of 100\u001b[0m\n",
      "\u001b[34mbuilding tree 43 of 100\u001b[0m\n",
      "\u001b[34mbuilding tree 44 of 100\u001b[0m\n",
      "\u001b[34mbuilding tree 45 of 100\u001b[0m\n",
      "\u001b[34mbuilding tree 46 of 100\u001b[0m\n",
      "\u001b[34mbuilding tree 47 of 100\u001b[0m\n",
      "\u001b[34mbuilding tree 48 of 100\u001b[0m\n",
      "\u001b[34mbuilding tree 49 of 100\u001b[0m\n",
      "\u001b[34mbuilding tree 50 of 100\u001b[0m\n",
      "\u001b[34mbuilding tree 51 of 100\u001b[0m\n",
      "\u001b[34mbuilding tree 52 of 100\u001b[0m\n",
      "\u001b[34mbuilding tree 53 of 100building tree 54 of 100\u001b[0m\n",
      "\u001b[34mbuilding tree 55 of 100\u001b[0m\n",
      "\u001b[34mbuilding tree 56 of 100\u001b[0m\n",
      "\u001b[34mbuilding tree 57 of 100\u001b[0m\n",
      "\u001b[34mbuilding tree 58 of 100\u001b[0m\n",
      "\u001b[34mbuilding tree 59 of 100\u001b[0m\n",
      "\u001b[34mbuilding tree 60 of 100\u001b[0m\n",
      "\u001b[34mbuilding tree 61 of 100\u001b[0m\n",
      "\u001b[34mbuilding tree 62 of 100\u001b[0m\n",
      "\u001b[34mbuilding tree 63 of 100\u001b[0m\n",
      "\u001b[34mbuilding tree 64 of 100\u001b[0m\n",
      "\u001b[34mbuilding tree 65 of 100\u001b[0m\n",
      "\u001b[34mbuilding tree 66 of 100\u001b[0m\n",
      "\u001b[34mbuilding tree 67 of 100\u001b[0m\n",
      "\u001b[34mbuilding tree 68 of 100\u001b[0m\n",
      "\u001b[34mbuilding tree 69 of 100\u001b[0m\n",
      "\u001b[34mbuilding tree 70 of 100\u001b[0m\n",
      "\u001b[34mbuilding tree 71 of 100\u001b[0m\n",
      "\u001b[34mbuilding tree 72 of 100\u001b[0m\n",
      "\u001b[34mbuilding tree 73 of 100\u001b[0m\n",
      "\u001b[34mbuilding tree 74 of 100\u001b[0m\n",
      "\u001b[34mbuilding tree 75 of 100\u001b[0m\n",
      "\u001b[34mbuilding tree 76 of 100\u001b[0m\n",
      "\u001b[34mbuilding tree 77 of 100\u001b[0m\n",
      "\u001b[34mbuilding tree 78 of 100\u001b[0m\n",
      "\u001b[34mbuilding tree 79 of 100\u001b[0m\n",
      "\u001b[34mbuilding tree 80 of 100\u001b[0m\n",
      "\u001b[34mbuilding tree 81 of 100\u001b[0m\n",
      "\u001b[34mbuilding tree 82 of 100\u001b[0m\n",
      "\u001b[34mbuilding tree 83 of 100\u001b[0m\n",
      "\u001b[34mbuilding tree 84 of 100\u001b[0m\n",
      "\u001b[34mbuilding tree 85 of 100\u001b[0m\n",
      "\u001b[34mbuilding tree 86 of 100\u001b[0m\n",
      "\u001b[34mbuilding tree 87 of 100\u001b[0m\n",
      "\u001b[34mbuilding tree 88 of 100\u001b[0m\n",
      "\u001b[34mbuilding tree 89 of 100\u001b[0m\n",
      "\u001b[34mbuilding tree 90 of 100\u001b[0m\n",
      "\u001b[34mbuilding tree 91 of 100\u001b[0m\n",
      "\u001b[34mbuilding tree 92 of 100\u001b[0m\n",
      "\u001b[34mbuilding tree 93 of 100\u001b[0m\n",
      "\u001b[34mbuilding tree 94 of 100\u001b[0m\n",
      "\u001b[34mbuilding tree 95 of 100\u001b[0m\n",
      "\u001b[34mbuilding tree 96 of 100\u001b[0m\n",
      "\u001b[34mbuilding tree 97 of 100\u001b[0m\n",
      "\u001b[34mbuilding tree 98 of 100\u001b[0m\n",
      "\u001b[34mbuilding tree 99 of 100\u001b[0m\n",
      "\u001b[34mbuilding tree 100 of 100\u001b[0m\n",
      "\u001b[34m[Parallel(n_jobs=-1)]: Done 100 out of 100 | elapsed:    1.2s finished\u001b[0m\n",
      "\u001b[34mModel persisted at /opt/ml/model/model.joblib\u001b[0m\n",
      "\u001b[34m[Parallel(n_jobs=2)]: Using backend ThreadingBackend with 2 concurrent workers.\u001b[0m\n",
      "\u001b[34m[Parallel(n_jobs=2)]: Done  28 tasks      | elapsed:    0.0s\u001b[0m\n",
      "\u001b[34m[Parallel(n_jobs=2)]: Done 100 out of 100 | elapsed:    0.1s finished\u001b[0m\n",
      "\u001b[34m---- METRICS RESULTS FOR TESTING DATA ----\u001b[0m\n",
      "\u001b[34mTotal Rows are:  5616\u001b[0m\n",
      "\u001b[34m[TESTING] Model Accuracy is:  99.09188034188034\u001b[0m\n",
      "\u001b[34m[TESTING] Testing Report: \n",
      "              precision    recall  f1-score   support\n",
      "           0       0.98      0.99      0.99      1612\n",
      "           1       0.99      0.98      0.99      2125\n",
      "           2       1.00      1.00      1.00      1879\n",
      "    accuracy                           0.99      5616\n",
      "   macro avg       0.99      0.99      0.99      5616\u001b[0m\n",
      "\u001b[34mweighted avg       0.99      0.99      0.99      5616\u001b[0m\n",
      "\u001b[34m2024-11-28 12:36:31,700 sagemaker-containers INFO     Reporting training SUCCESS\u001b[0m\n"
     ]
    },
    {
     "name": "stdout",
     "output_type": "stream",
     "text": [
      "\n",
      "2024-11-28 12:36:47 Uploading - Uploading generated training model\n",
      "2024-11-28 12:36:47 Completed - Training job completed\n",
      "Training seconds: 104\n",
      "Billable seconds: 34\n",
      "Managed Spot Training savings: 67.3%\n"
     ]
    }
   ],
   "source": [
    "# launch training job, with asynchronous call\n",
    "sklearn_estimator.fit({\"train\": trainpath, \"test\": testpath}, wait=True)\n",
    "# sklearn_estimator.fit({\"train\": datapath}, wait=True)"
   ]
  },
  {
   "cell_type": "code",
   "execution_count": 32,
   "id": "5753f077",
   "metadata": {},
   "outputs": [
    {
     "name": "stdout",
     "output_type": "stream",
     "text": [
      "\n",
      "2024-11-28 12:36:47 Starting - Preparing the instances for training\n",
      "2024-11-28 12:36:47 Downloading - Downloading the training image\n",
      "2024-11-28 12:36:47 Training - Training image download completed. Training in progress.\n",
      "2024-11-28 12:36:47 Uploading - Uploading generated training model\n",
      "2024-11-28 12:36:47 Completed - Training job completed\n",
      "Model artifact persisted at s3://sagemaker-us-east-1-423623834574/custom-sklearn-2024-11-28-12-34-20-279/output/model.tar.gz\n"
     ]
    }
   ],
   "source": [
    "sklearn_estimator.latest_training_job.wait(logs=\"None\")\n",
    "artifact = sm_boto3.describe_training_job(\n",
    "    TrainingJobName=sklearn_estimator.latest_training_job.name\n",
    ")[\"ModelArtifacts\"][\"S3ModelArtifacts\"]\n",
    "\n",
    "print(\"Model artifact persisted at \" + artifact)"
   ]
  },
  {
   "cell_type": "code",
   "execution_count": 33,
   "id": "36949bd9",
   "metadata": {},
   "outputs": [],
   "source": [
    "from sagemaker.sklearn.model import SKLearnModel\n",
    "from time import gmtime, strftime\n",
    "\n",
    "model_name = \"Custom-sklearn-model-\" + strftime(\"%Y-%m-%d-%H-%M-%S\", gmtime())\n",
    "model = SKLearnModel(\n",
    "    name =  model_name,\n",
    "    model_data=artifact,\n",
    "    role=get_execution_role(),\n",
    "    entry_point=\"script.py\",\n",
    "    framework_version=FRAMEWORK_VERSION,\n",
    ")"
   ]
  },
  {
   "cell_type": "code",
   "execution_count": 34,
   "id": "1e627950",
   "metadata": {},
   "outputs": [
    {
     "name": "stdout",
     "output_type": "stream",
     "text": [
      "EndpointName=Custom-sklearn-model-2024-11-28-12-38-00\n"
     ]
    },
    {
     "name": "stderr",
     "output_type": "stream",
     "text": [
      "INFO:sagemaker:Creating model with name: Custom-sklearn-model-2024-11-28-12-37-49\n",
      "INFO:sagemaker:Creating endpoint-config with name Custom-sklearn-model-2024-11-28-12-38-00\n",
      "INFO:sagemaker:Creating endpoint with name Custom-sklearn-model-2024-11-28-12-38-00\n"
     ]
    },
    {
     "name": "stdout",
     "output_type": "stream",
     "text": [
      "------!"
     ]
    }
   ],
   "source": [
    "endpoint_name = \"Custom-sklearn-model-\" + strftime(\"%Y-%m-%d-%H-%M-%S\", gmtime())\n",
    "print(\"EndpointName={}\".format(endpoint_name))\n",
    "\n",
    "predictor = model.deploy(\n",
    "    initial_instance_count=1,\n",
    "    instance_type=\"ml.m4.xlarge\",\n",
    "    endpoint_name=endpoint_name,\n",
    ")"
   ]
  },
  {
   "cell_type": "code",
   "execution_count": null,
   "id": "72d786b1",
   "metadata": {},
   "outputs": [],
   "source": []
  }
 ],
 "metadata": {
  "kernelspec": {
   "display_name": "conda_python3",
   "language": "python",
   "name": "conda_python3"
  },
  "language_info": {
   "codemirror_mode": {
    "name": "ipython",
    "version": 3
   },
   "file_extension": ".py",
   "mimetype": "text/x-python",
   "name": "python",
   "nbconvert_exporter": "python",
   "pygments_lexer": "ipython3",
   "version": "3.10.15"
  }
 },
 "nbformat": 4,
 "nbformat_minor": 5
}
